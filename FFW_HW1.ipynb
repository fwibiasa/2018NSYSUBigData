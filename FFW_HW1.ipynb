{
 "cells": [
  {
   "cell_type": "markdown",
   "metadata": {},
   "source": [
    "# Quadratic values in a list with loops"
   ]
  },
  {
   "cell_type": "code",
   "execution_count": 1,
   "metadata": {},
   "outputs": [
    {
     "name": "stdout",
     "output_type": "stream",
     "text": [
      "QuadraticList = [1, 4, 9, 16]\n"
     ]
    }
   ],
   "source": [
    "# Quadratic values in a list with loops\n",
    "list = [1,2,3,4]\n",
    "count = 0\n",
    "while (count < 4):\n",
    "    for value in list:\n",
    "        list[count] = value**2\n",
    "        count += 1\n",
    "\n",
    "print(\"QuadraticList =\",list)"
   ]
  }
 ],
 "metadata": {
  "kernelspec": {
   "display_name": "Python 3",
   "language": "python",
   "name": "python3"
  },
  "language_info": {
   "codemirror_mode": {
    "name": "ipython",
    "version": 3
   },
   "file_extension": ".py",
   "mimetype": "text/x-python",
   "name": "python",
   "nbconvert_exporter": "python",
   "pygments_lexer": "ipython3",
   "version": "3.6.4"
  }
 },
 "nbformat": 4,
 "nbformat_minor": 2
}
